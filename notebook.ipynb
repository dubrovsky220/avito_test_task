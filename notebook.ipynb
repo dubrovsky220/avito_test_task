{
 "cells": [
  {
   "cell_type": "markdown",
   "id": "a212b0bf",
   "metadata": {},
   "source": [
    "# Тестовое задание Авито"
   ]
  },
  {
   "cell_type": "code",
   "execution_count": 34,
   "id": "52f12714",
   "metadata": {},
   "outputs": [],
   "source": [
    "import re\n",
    "import unicodedata\n",
    "from typing import List, Tuple, Dict\n",
    "import random\n",
    "import numpy as np\n",
    "import json\n",
    "import torch\n",
    "import torch.nn as nn\n",
    "import matplotlib.pyplot as plt\n",
    "from torch.utils.data import Dataset, DataLoader\n",
    "from torch.nn.utils.rnn import pad_sequence\n",
    "from pathlib import Path\n",
    "from sklearn.model_selection import train_test_split"
   ]
  },
  {
   "cell_type": "code",
   "execution_count": 8,
   "id": "4d3019b3",
   "metadata": {},
   "outputs": [],
   "source": [
    "RANDOM_STATE = 99\n",
    "\n",
    "random.seed(RANDOM_STATE)\n",
    "np.random.seed(RANDOM_STATE)\n",
    "torch.manual_seed(RANDOM_STATE)\n",
    "torch.cuda.manual_seed(RANDOM_STATE)\n",
    "torch.cuda.manual_seed_all(RANDOM_STATE)\n",
    "torch.backends.cudnn.deterministic = True\n",
    "torch.backends.cudnn.benchmark = False"
   ]
  },
  {
   "cell_type": "markdown",
   "id": "165b8c57",
   "metadata": {},
   "source": [
    "## Создание датасета"
   ]
  },
  {
   "cell_type": "markdown",
   "id": "d671db10",
   "metadata": {},
   "source": [
    "Код ниже выполняет следующие действия:\n",
    "1. Загружает строки из файла ./dataset_raw/articles.txt.\n",
    "2. Очищает каждую строку (Unicode-нормализация, удаление control chars, удаление эмодзи, нормализация пробелов).\n",
    "3. Разбивает на короткие сегменты (2–8 слов).\n",
    "4. Для каждого сегмента строит:\n",
    "    - вход (строка без пробелов),\n",
    "    - список меток (1 после символа, если там был пробел).\n",
    "5. Собирает словарь char2id (кириллица, латиница, цифры, знаки).\n",
    "6. Возвращает готовый датасет: X (индексы символов), y (метки), char2id.\n",
    "\n",
    "\n",
    "Для обучения модели используется файл articles.txt, взятый из датасета Complex Russian Dataset (https://www.kaggle.com/datasets/artalmaz31/complex-russian-dataset). Данный файл содержит статьи на разные темы, опубликованные на dzen.ru. Для обучения модели был взят именно этот набор текстов, так как он содержит тексты на русском языке с иногда встречающимися английскими названиями и числами, что по структуре напоминает тестовые данные."
   ]
  },
  {
   "cell_type": "code",
   "execution_count": 34,
   "id": "8a9402d7",
   "metadata": {},
   "outputs": [],
   "source": [
    "def read_corpus(path: str) -> List[str]:\n",
    "    \"\"\"\n",
    "    Загружает корпус текстов из файла.\n",
    "    \n",
    "    :param path: путь к файлу (каждая строка = статья или абзац).\n",
    "    :return: список строк\n",
    "    \"\"\"\n",
    "    with open(path, \"r\", encoding=\"utf-8\") as f:\n",
    "        lines = [line.strip() for line in f if line.strip()]\n",
    "    return lines"
   ]
  },
  {
   "cell_type": "code",
   "execution_count": null,
   "id": "463970eb",
   "metadata": {},
   "outputs": [],
   "source": [
    "def clean_text(text: str) -> str:\n",
    "    \"\"\"\n",
    "    Очищает текст:\n",
    "    - нормализует Unicode (NFC)\n",
    "    - удаляет управляющие символы\n",
    "    - нормализует пробелы\n",
    "    - удаляет эмодзи\n",
    "    \n",
    "    :param text: исходная строка\n",
    "    :return: очищенный текст\n",
    "    \"\"\"\n",
    "    # Unicode нормализация\n",
    "    text = unicodedata.normalize(\"NFC\", text)\n",
    "    \n",
    "    # Убираем control chars\n",
    "    text = \"\".join(ch for ch in text if unicodedata.category(ch)[0] != \"C\")\n",
    "    \n",
    "    # Убираем эмодзи\n",
    "    emoji_pattern = re.compile(\"[\"\n",
    "        u\"\\U0001F600-\\U0001F64F\"  # смайлы\n",
    "        u\"\\U0001F300-\\U0001F5FF\"  # пиктограммы\n",
    "        u\"\\U0001F680-\\U0001F6FF\"  # транспорт\n",
    "        u\"\\U0001F1E0-\\U0001F1FF\"  # флаги\n",
    "        u\"\\U00002700-\\U000027BF\"  # символы-стрелки\n",
    "        u\"\\U000024C2-\\U0001F251\"\n",
    "        \"]+\", flags=re.UNICODE)\n",
    "    text = emoji_pattern.sub(\"\", text)\n",
    "    \n",
    "    # Нормализация пробелов\n",
    "    text = re.sub(r\"\\s+\", \" \", text).strip()\n",
    "    \n",
    "    return text"
   ]
  },
  {
   "cell_type": "code",
   "execution_count": 36,
   "id": "0cf03fb3",
   "metadata": {},
   "outputs": [],
   "source": [
    "def split_into_segments(text: str, min_words: int = 2, max_words: int = 8) -> List[str]:\n",
    "    \"\"\"\n",
    "    Разбивает текст на короткие сегменты (min_words-max_words слов).\n",
    "    \n",
    "    :param text: очищенный текст\n",
    "    :param min_words: минимум слов в сегменте\n",
    "    :param max_words: максимум слов в сегменте\n",
    "    :return: список коротких сегментов\n",
    "    \"\"\"\n",
    "    words = text.split()\n",
    "    segments = []\n",
    "    \n",
    "    if len(words) < min_words:\n",
    "        return []\n",
    "    \n",
    "    # Берем окна разных длин\n",
    "    for start in range(len(words)):\n",
    "        for length in range(min_words, max_words + 1):\n",
    "            end = start + length\n",
    "            if end <= len(words):\n",
    "                segment = \" \".join(words[start:end])\n",
    "                segments.append(segment)\n",
    "    return segments"
   ]
  },
  {
   "cell_type": "code",
   "execution_count": 37,
   "id": "6a37ff81",
   "metadata": {},
   "outputs": [],
   "source": [
    "def generate_no_space_input(segment: str) -> Tuple[str, List[int]]:\n",
    "    \"\"\"\n",
    "    Генерирует вход без пробелов и метки (0/1 после каждого символа).\n",
    "    \n",
    "    :param segment: строка с пробелами\n",
    "    :return: (вход без пробелов, список меток)\n",
    "    \"\"\"\n",
    "    input_text = segment.replace(\" \", \"\")\n",
    "    labels = []\n",
    "    i = 0\n",
    "    for word in segment.split():\n",
    "        for j, ch in enumerate(word):\n",
    "            # Если символ последний в слове, ставим 1, иначе 0\n",
    "            if j == len(word) - 1 and i < len(input_text):\n",
    "                labels.append(1)\n",
    "            else:\n",
    "                labels.append(0)\n",
    "            i += 1\n",
    "    # Последний символ не должен иметь пробела после себя\n",
    "    if labels:\n",
    "        labels[-1] = 0\n",
    "    return input_text, labels"
   ]
  },
  {
   "cell_type": "code",
   "execution_count": 38,
   "id": "58f45d18",
   "metadata": {},
   "outputs": [],
   "source": [
    "def build_char2id(texts: List[str]) -> Dict[str, int]:\n",
    "    \"\"\"\n",
    "    Строит словарь символов для корпуса.\n",
    "    \n",
    "    :param texts: список строк (inputs без пробелов)\n",
    "    :return: словарь {символ: id}\n",
    "    \"\"\"\n",
    "    chars = set(\"\".join(texts))\n",
    "    sorted_chars = sorted(chars)\n",
    "    char2id = {ch: idx + 1 for idx, ch in enumerate(sorted_chars)}  # Нумерация с 1\n",
    "    char2id[\"<UNK>\"] = len(char2id) + 1  # Для неизвестных символов\n",
    "    return char2id"
   ]
  },
  {
   "cell_type": "code",
   "execution_count": 39,
   "id": "f96b2edf",
   "metadata": {},
   "outputs": [],
   "source": [
    "def build_dataset(path: str, max_segments: int = 10000) -> Tuple[List[List[int]], List[List[int]], Dict[str, int]]:\n",
    "    \"\"\"\n",
    "    Основная функция: строит датасет из корпуса статей.\n",
    "    \n",
    "    :param path: путь к файлу с текстами\n",
    "    :param max_segments: максимум сегментов в датасете\n",
    "    :return: (X, y, char2id)\n",
    "        X — список последовательностей индексов символов (inputs)\n",
    "        y — список меток (0/1 для каждого символа)\n",
    "        char2id — словарь символов\n",
    "    \"\"\"\n",
    "    lines = read_corpus(path)\n",
    "    \n",
    "    # Очистка + сегментация\n",
    "    all_segments = []\n",
    "    for line in lines:\n",
    "        cleaned = clean_text(line)\n",
    "        segs = split_into_segments(cleaned)\n",
    "        all_segments.extend(segs)\n",
    "    \n",
    "    # Перемешиваем и берем первые max_segments\n",
    "    random.shuffle(all_segments)\n",
    "    all_segments = all_segments[:max_segments]\n",
    "    \n",
    "    # Генерация данных\n",
    "    inputs, labels = [], []\n",
    "    for seg in all_segments:\n",
    "        inp, lab = generate_no_space_input(seg)\n",
    "        if inp and lab:\n",
    "            inputs.append(inp)\n",
    "            labels.append(lab)\n",
    "    \n",
    "    # Строим словарь\n",
    "    char2id = build_char2id(inputs)\n",
    "    \n",
    "    # Преобразуем inputs в индексы\n",
    "    X = []\n",
    "    for text in inputs:\n",
    "        seq = [char2id.get(ch, char2id[\"<UNK>\"]) for ch in text]\n",
    "        X.append(seq)\n",
    "    \n",
    "    return X, labels, char2id"
   ]
  },
  {
   "cell_type": "code",
   "execution_count": 40,
   "id": "9e9bd961",
   "metadata": {},
   "outputs": [],
   "source": [
    "def save_dataset(X, y, char2id, out_dir=\"dataset\"):\n",
    "    \"\"\"\n",
    "    Сохраняет датасет и словарь для будущего использования.\n",
    "\n",
    "    Args:\n",
    "        X (np.ndarray): входные данные (последовательности id символов)\n",
    "        y (np.ndarray): целевые метки (бинарные маски для пробелов)\n",
    "        char2id (dict): словарь символ → id\n",
    "        out_dir (str): путь к директории для сохранения\n",
    "    \"\"\"\n",
    "    out_dir = Path(out_dir)\n",
    "    out_dir.mkdir(parents=True, exist_ok=True)\n",
    "\n",
    "    # Сохраняем X и y\n",
    "    np.save(out_dir / \"X.npy\", np.array(X, dtype=object))\n",
    "    np.save(out_dir / \"y.npy\", np.array(y, dtype=object))\n",
    "\n",
    "    # Сохраняем словарь\n",
    "    with open(out_dir / \"char2id.json\", \"w\", encoding=\"utf-8\") as f:\n",
    "        json.dump(char2id, f, ensure_ascii=False, indent=2)\n",
    "\n",
    "    print(f\"Датасет сохранён в {out_dir}\")"
   ]
  },
  {
   "cell_type": "code",
   "execution_count": 4,
   "id": "83499fa9",
   "metadata": {},
   "outputs": [],
   "source": [
    "def load_dataset(out_dir=\"dataset\"):\n",
    "    \"\"\"\n",
    "    Загружает ранее сохранённый датасет и словарь.\n",
    "\n",
    "    Args:\n",
    "        out_dir (str): путь к директории\n",
    "\n",
    "    Returns:\n",
    "        X (np.ndarray), y (np.ndarray), char2id (dict)\n",
    "    \"\"\"\n",
    "    out_dir = Path(out_dir)\n",
    "\n",
    "    X = np.load(out_dir / \"X.npy\", allow_pickle=True)\n",
    "    y = np.load(out_dir / \"y.npy\", allow_pickle=True)\n",
    "\n",
    "    with open(out_dir / \"char2id.json\", \"r\", encoding=\"utf-8\") as f:\n",
    "        char2id = json.load(f)\n",
    "\n",
    "    print(f\"Датасет загружен из {out_dir}\")\n",
    "    return X, y, char2id"
   ]
  },
  {
   "cell_type": "code",
   "execution_count": 42,
   "id": "6f0406a3",
   "metadata": {},
   "outputs": [],
   "source": [
    "dataset_path = \"./dataset_raw/articles.txt\"  # файл со статьями\n",
    "X, y, char2id = build_dataset(dataset_path, max_segments=5000)"
   ]
  },
  {
   "cell_type": "code",
   "execution_count": 43,
   "id": "924cd1a6",
   "metadata": {},
   "outputs": [
    {
     "name": "stdout",
     "output_type": "stream",
     "text": [
      "Датасет сохранён в dataset_processed\n"
     ]
    }
   ],
   "source": [
    "save_dataset(X, y, char2id, out_dir=\"./dataset_processed\")"
   ]
  },
  {
   "cell_type": "code",
   "execution_count": 5,
   "id": "e58030b0",
   "metadata": {},
   "outputs": [
    {
     "name": "stdout",
     "output_type": "stream",
     "text": [
      "Датасет загружен из dataset_processed\n"
     ]
    }
   ],
   "source": [
    "X, y, char2id = load_dataset(\"./dataset_processed\")"
   ]
  },
  {
   "cell_type": "code",
   "execution_count": 6,
   "id": "5bf849ac",
   "metadata": {},
   "outputs": [
    {
     "name": "stdout",
     "output_type": "stream",
     "text": [
      "Пример входа (индексы): [146, 135, 131, 129, 134, 128, 136, 140, 117, 122, 128, 136, 140, 141, 122, 131, 118, 131, 126, 135, 125, 134, 145, 135, 131, 128, 145, 127, 131, 127, 131, 130, 134, 125, 128, 122, 133, 131, 129, 125]\n",
      "Пример меток: [0, 0, 0, 1, 0, 0, 0, 0, 0, 1, 0, 0, 0, 0, 1, 0, 0, 0, 0, 0, 0, 0, 1, 0, 0, 0, 0, 0, 1, 0, 0, 0, 0, 0, 0, 0, 0, 0, 1, 0]\n",
      "Пример сегмента: этомслучаелучшеобойтисьтолькоконсилероми\n",
      "Размер словаря: 160\n"
     ]
    }
   ],
   "source": [
    "print(\"Пример входа (индексы):\", X[0])\n",
    "print(\"Пример меток:\", y[0])\n",
    "print(\"Пример сегмента:\", \"\".join([list(char2id.keys())[list(char2id.values()).index(idx)] for idx in X[0]]))\n",
    "print(\"Размер словаря:\", len(char2id))"
   ]
  },
  {
   "cell_type": "markdown",
   "id": "1bbd24e1",
   "metadata": {},
   "source": [
    "## Подготовка DataLoader"
   ]
  },
  {
   "cell_type": "code",
   "execution_count": 9,
   "id": "2c10adc8",
   "metadata": {},
   "outputs": [],
   "source": [
    "def prepare_tensors(X, y, pad_idx=0, ignore_index=-100):\n",
    "    \"\"\"\n",
    "    Преобразует X, y в padded тензоры для обучения модели.\n",
    "\n",
    "    Args:\n",
    "        X (list of list[int]): список последовательностей индексов символов\n",
    "        y (list of list[int]): список последовательностей меток (0/1 для пробела)\n",
    "        pad_idx (int): индекс для паддинга входов\n",
    "        ignore_index (int): индекс для игнорируемых токенов в loss\n",
    "\n",
    "    Returns:\n",
    "        X_padded (torch.LongTensor): (batch_size, max_len)\n",
    "        y_padded (torch.LongTensor): (batch_size, max_len)\n",
    "    \"\"\"\n",
    "    X_tensors = [torch.tensor(seq, dtype=torch.long) for seq in X]\n",
    "    y_tensors = [torch.tensor(seq, dtype=torch.long) for seq in y]\n",
    "\n",
    "    X_padded = pad_sequence(X_tensors, batch_first=True, padding_value=pad_idx)\n",
    "    y_padded = pad_sequence(y_tensors, batch_first=True, padding_value=ignore_index)\n",
    "\n",
    "    return X_padded, y_padded"
   ]
  },
  {
   "cell_type": "code",
   "execution_count": 14,
   "id": "c1a96b6e",
   "metadata": {},
   "outputs": [],
   "source": [
    "X_train, X_val, y_train, y_val = train_test_split(X, y, test_size=0.2, random_state=RANDOM_STATE)"
   ]
  },
  {
   "cell_type": "code",
   "execution_count": 15,
   "id": "929930ec",
   "metadata": {},
   "outputs": [],
   "source": [
    "X_train, y_train = prepare_tensors(X_train, y_train)\n",
    "X_val, y_val = prepare_tensors(X_val, y_val)"
   ]
  },
  {
   "cell_type": "code",
   "execution_count": 21,
   "id": "0bc0cb04",
   "metadata": {},
   "outputs": [],
   "source": [
    "class CharDataset(Dataset):\n",
    "    \"\"\"\n",
    "    Датасет для задачи восстановления пробелов.\n",
    "    Хранит padded X и y и возвращает батчи.\n",
    "    \"\"\"\n",
    "\n",
    "    def __init__(self, X, y):\n",
    "        \"\"\"\n",
    "        Args:\n",
    "            X (torch.LongTensor): (num_samples, max_len)\n",
    "            y (torch.LongTensor): (num_samples, max_len)\n",
    "        \"\"\"\n",
    "        self.X = X\n",
    "        self.y = y\n",
    "\n",
    "    def __len__(self):\n",
    "        return len(self.X)\n",
    "\n",
    "    def __getitem__(self, idx):\n",
    "        return self.X[idx], self.y[idx]"
   ]
  },
  {
   "cell_type": "code",
   "execution_count": 22,
   "id": "3148d542",
   "metadata": {},
   "outputs": [],
   "source": [
    "batch_size = 32\n",
    "\n",
    "train_dataset = CharDataset(X_train, y_train)\n",
    "val_dataset = CharDataset(X_val, y_val)\n",
    "\n",
    "train_loader = DataLoader(train_dataset, batch_size=batch_size, shuffle=True)\n",
    "val_loader = DataLoader(val_dataset, batch_size=batch_size, shuffle=False)"
   ]
  },
  {
   "cell_type": "markdown",
   "id": "b58081fc",
   "metadata": {},
   "source": [
    "## Обучение модели"
   ]
  },
  {
   "cell_type": "code",
   "execution_count": 23,
   "id": "65c1fba1",
   "metadata": {},
   "outputs": [],
   "source": [
    "class BiLSTM(nn.Module):\n",
    "    def __init__(self, vocab_size, embed_dim=128, hidden_dim=256, num_layers=2, pad_idx=0):\n",
    "        \"\"\"\n",
    "        BiLSTM для восстановления пробелов.\n",
    "\n",
    "        Args:\n",
    "            vocab_size (int): размер словаря (char2id)\n",
    "            embed_dim (int): размер эмбеддингов символов\n",
    "            hidden_dim (int): размер скрытого состояния LSTM\n",
    "            num_layers (int): количество слоев LSTM\n",
    "            pad_idx (int): индекс паддинга\n",
    "        \"\"\"\n",
    "        super().__init__()\n",
    "\n",
    "        # Эмбеддинги\n",
    "        self.embedding = nn.Embedding(vocab_size, embed_dim, padding_idx=pad_idx)\n",
    "\n",
    "        # BiLSTM\n",
    "        self.lstm = nn.LSTM(\n",
    "            input_size=embed_dim,\n",
    "            hidden_size=hidden_dim,\n",
    "            num_layers=num_layers,\n",
    "            batch_first=True,\n",
    "            bidirectional=True\n",
    "        )\n",
    "\n",
    "        # Выход (2 класса: пробел или нет)\n",
    "        self.fc = nn.Linear(hidden_dim * 2, 2)\n",
    "\n",
    "    def forward(self, x):\n",
    "        \"\"\"\n",
    "        Args:\n",
    "            x (torch.LongTensor): (batch_size, seq_len)\n",
    "        Returns:\n",
    "            logits (torch.Tensor): (batch_size, seq_len, 2)\n",
    "        \"\"\"\n",
    "        emb = self.embedding(x)  # (batch_size, seq_len, embed_dim)\n",
    "        lstm_out, _ = self.lstm(emb)  # (batch_size, seq_len, hidden_dim*2)\n",
    "        logits = self.fc(lstm_out)    # (batch_size, seq_len, 2)\n",
    "        return logits"
   ]
  },
  {
   "cell_type": "code",
   "execution_count": 24,
   "id": "d5776120",
   "metadata": {},
   "outputs": [],
   "source": [
    "def compute_f1(y_true, y_pred, ignore_index=-100):\n",
    "    \"\"\"\n",
    "    Считает средний F1 по батчу текстов.\n",
    "\n",
    "    Args:\n",
    "        y_true (torch.Tensor): (batch, seq_len) целевые метки (0/1), паддинг = ignore_index\n",
    "        y_pred (torch.Tensor): (batch, seq_len) предсказанные метки (0/1)\n",
    "        ignore_index (int): индекс для паддинга, который исключаем из метрик\n",
    "\n",
    "    Returns:\n",
    "        f1 (float): средний F1 по батчу\n",
    "    \"\"\"\n",
    "    y_true = y_true.cpu().numpy()\n",
    "    y_pred = y_pred.cpu().numpy()\n",
    "\n",
    "    f1_scores = []\n",
    "\n",
    "    for true_seq, pred_seq in zip(y_true, y_pred):\n",
    "        # Убираем паддинг\n",
    "        mask = true_seq != ignore_index\n",
    "        true_seq = true_seq[mask]\n",
    "        pred_seq = pred_seq[mask]\n",
    "\n",
    "        # позиции пробелов (индексы, где == 1)\n",
    "        true_spaces = set(np.where(true_seq == 1)[0])\n",
    "        pred_spaces = set(np.where(pred_seq == 1)[0])\n",
    "\n",
    "        if len(true_spaces) == 0 and len(pred_spaces) == 0:\n",
    "            f1_scores.append(1.0)  # оба пустые → perfect match\n",
    "            continue\n",
    "        if len(pred_spaces) == 0:\n",
    "            f1_scores.append(0.0)\n",
    "            continue\n",
    "\n",
    "        precision = len(true_spaces & pred_spaces) / len(pred_spaces)\n",
    "        recall = len(true_spaces & pred_spaces) / len(true_spaces) if len(true_spaces) > 0 else 0.0\n",
    "\n",
    "        if precision + recall == 0:\n",
    "            f1 = 0.0\n",
    "        else:\n",
    "            f1 = 2 * (precision * recall) / (precision + recall)\n",
    "\n",
    "        f1_scores.append(f1)\n",
    "\n",
    "    return float(np.mean(f1_scores))"
   ]
  },
  {
   "cell_type": "code",
   "execution_count": 25,
   "id": "63e20d09",
   "metadata": {},
   "outputs": [],
   "source": [
    "def train_model(model, train_loader, val_loader, optimizer, criterion, num_epochs=10, device=\"cpu\"):\n",
    "    \"\"\"\n",
    "    Обучает модель и считает метрики.\n",
    "\n",
    "    Args:\n",
    "        model: nn.Module (BiLSTM)\n",
    "        train_loader: DataLoader\n",
    "        val_loader: DataLoader\n",
    "        optimizer: torch.optim\n",
    "        criterion: loss-функция (CrossEntropyLoss с ignore_index)\n",
    "        num_epochs (int): число эпох\n",
    "        device (str): \"cpu\" или \"cuda\"\n",
    "\n",
    "    Returns:\n",
    "        history (dict): лоссы и метрики по эпохам\n",
    "    \"\"\"\n",
    "    history = {\"train_loss\": [], \"val_loss\": [], \"train_f1\": [], \"val_f1\": []}\n",
    "\n",
    "    model = model.to(device)\n",
    "\n",
    "    for epoch in range(1, num_epochs + 1):\n",
    "        # --- Train ---\n",
    "        model.train()\n",
    "        train_loss, train_f1 = 0.0, 0.0\n",
    "\n",
    "        for X_batch, y_batch in train_loader:\n",
    "            X_batch, y_batch = X_batch.to(device), y_batch.to(device)\n",
    "\n",
    "            optimizer.zero_grad()\n",
    "            logits = model(X_batch)  # (batch, seq_len, 2)\n",
    "\n",
    "            # приводим к формату для loss\n",
    "            loss = criterion(logits.view(-1, 2), y_batch.view(-1))\n",
    "            loss.backward()\n",
    "            optimizer.step()\n",
    "\n",
    "            train_loss += loss.item()\n",
    "\n",
    "            # предсказания\n",
    "            preds = logits.argmax(dim=-1)\n",
    "            f1 = compute_f1(y_batch, preds)\n",
    "            train_f1 += f1\n",
    "\n",
    "        # усредняем\n",
    "        train_loss /= len(train_loader)\n",
    "        train_f1 /= len(train_loader)\n",
    "\n",
    "        # --- Validation ---\n",
    "        model.eval()\n",
    "        val_loss, val_f1 = 0.0, 0.0\n",
    "\n",
    "        with torch.no_grad():\n",
    "            for X_batch, y_batch in val_loader:\n",
    "                X_batch, y_batch = X_batch.to(device), y_batch.to(device)\n",
    "\n",
    "                logits = model(X_batch)\n",
    "                loss = criterion(logits.view(-1, 2), y_batch.view(-1))\n",
    "                val_loss += loss.item()\n",
    "\n",
    "                preds = logits.argmax(dim=-1)\n",
    "                f1 = compute_f1(y_batch, preds)\n",
    "                val_f1 += f1\n",
    "\n",
    "        val_loss /= len(val_loader)\n",
    "        val_f1 /= len(val_loader)\n",
    "\n",
    "        # сохраняем в историю\n",
    "        history[\"train_loss\"].append(train_loss)\n",
    "        history[\"val_loss\"].append(val_loss)\n",
    "        history[\"train_f1\"].append(train_f1)\n",
    "        history[\"val_f1\"].append(val_f1)\n",
    "\n",
    "        print(f\"Epoch {epoch}/{num_epochs} | \"\n",
    "              f\"Train Loss: {train_loss:.4f}, Train F1: {train_f1:.4f} | \"\n",
    "              f\"Val Loss: {val_loss:.4f}, Val F1: {val_f1:.4f}\")\n",
    "\n",
    "    return history"
   ]
  },
  {
   "cell_type": "code",
   "execution_count": 33,
   "id": "15f751fa",
   "metadata": {},
   "outputs": [
    {
     "name": "stdout",
     "output_type": "stream",
     "text": [
      "Epoch 1/10 | Train Loss: 0.2533, Train F1: 0.4600 | Val Loss: 0.1551, Val F1: 0.7328\n",
      "Epoch 2/10 | Train Loss: 0.1228, Train F1: 0.7914 | Val Loss: 0.1132, Val F1: 0.8171\n",
      "Epoch 3/10 | Train Loss: 0.0873, Train F1: 0.8567 | Val Loss: 0.1006, Val F1: 0.8411\n",
      "Epoch 4/10 | Train Loss: 0.0647, Train F1: 0.8987 | Val Loss: 0.0888, Val F1: 0.8755\n",
      "Epoch 5/10 | Train Loss: 0.0468, Train F1: 0.9264 | Val Loss: 0.0867, Val F1: 0.8843\n",
      "Epoch 6/10 | Train Loss: 0.0328, Train F1: 0.9498 | Val Loss: 0.0936, Val F1: 0.8788\n",
      "Epoch 7/10 | Train Loss: 0.0208, Train F1: 0.9681 | Val Loss: 0.1049, Val F1: 0.8905\n",
      "Epoch 8/10 | Train Loss: 0.0137, Train F1: 0.9800 | Val Loss: 0.1106, Val F1: 0.8847\n",
      "Epoch 9/10 | Train Loss: 0.0099, Train F1: 0.9860 | Val Loss: 0.1174, Val F1: 0.8883\n",
      "Epoch 10/10 | Train Loss: 0.0076, Train F1: 0.9894 | Val Loss: 0.1245, Val F1: 0.8921\n"
     ]
    }
   ],
   "source": [
    "device = \"cpu\"\n",
    "\n",
    "vocab_size = len(char2id)\n",
    "model = BiLSTM(vocab_size)\n",
    "\n",
    "optimizer = torch.optim.Adam(model.parameters(), lr=1e-3)\n",
    "loss = nn.CrossEntropyLoss(ignore_index=-100)\n",
    "\n",
    "history = train_model(\n",
    "    model, \n",
    "    train_loader, \n",
    "    val_loader, \n",
    "    optimizer=optimizer, \n",
    "    criterion=loss, \n",
    "    num_epochs=10, \n",
    "    device=device\n",
    ")"
   ]
  },
  {
   "cell_type": "code",
   "execution_count": 38,
   "id": "f266a247",
   "metadata": {},
   "outputs": [
    {
     "data": {
      "image/png": "[encoded data removed]",
      "text/plain": [
       "<Figure size 1200x500 with 2 Axes>"
      ]
     },
     "metadata": {},
     "output_type": "display_data"
    }
   ],
   "source": [
    "epochs = range(1, len(history[\"train_loss\"]) + 1)\n",
    "\n",
    "plt.figure(figsize=(12, 5))\n",
    "\n",
    "# --- Loss ---\n",
    "plt.subplot(1, 2, 1)\n",
    "plt.plot(epochs, history[\"train_loss\"], label=\"Train Loss\")\n",
    "plt.plot(epochs, history[\"val_loss\"], label=\"Val Loss\")\n",
    "plt.xlabel(\"Epoch\")\n",
    "plt.ylabel(\"Loss\")\n",
    "plt.title(\"Loss per Epoch\")\n",
    "plt.legend()\n",
    "\n",
    "# --- F1 ---\n",
    "plt.subplot(1, 2, 2)\n",
    "plt.plot(epochs, history[\"train_f1\"], label=\"Train F1\")\n",
    "plt.plot(epochs, history[\"val_f1\"], label=\"Val F1\")\n",
    "plt.xlabel(\"Epoch\")\n",
    "plt.ylabel(\"F1-score\")\n",
    "plt.title(\"F1-score per Epoch\")\n",
    "plt.legend()\n",
    "\n",
    "plt.tight_layout()"
   ]
  },
  {
   "cell_type": "code",
   "execution_count": 36,
   "id": "f6d2df01",
   "metadata": {},
   "outputs": [],
   "source": [
    "def save_model(model, char2id, out_dir=\"./checkpoints\", model_name=\"bilstm_space\"):\n",
    "    \"\"\"\n",
    "    Сохраняет модель и словарь символов.\n",
    "    \"\"\"\n",
    "    out_dir = Path(out_dir)\n",
    "    out_dir.mkdir(parents=True, exist_ok=True)\n",
    "\n",
    "    # Сохраняем веса модели\n",
    "    torch.save(model.state_dict(), out_dir / f\"{model_name}.pt\")\n",
    "\n",
    "    # Сохраняем словарь\n",
    "    with open(out_dir / f\"{model_name}_char2id.json\", \"w\", encoding=\"utf-8\") as f:\n",
    "        json.dump(char2id, f, ensure_ascii=False, indent=2)\n",
    "\n",
    "    print(f\"Модель и словарь сохранены в {out_dir}\")"
   ]
  },
  {
   "cell_type": "code",
   "execution_count": 41,
   "id": "f2eb4c60",
   "metadata": {},
   "outputs": [
    {
     "name": "stdout",
     "output_type": "stream",
     "text": [
      "Модель и словарь сохранены в model\n"
     ]
    }
   ],
   "source": [
    "save_model(model, char2id, out_dir=\"./model\")"
   ]
  },
  {
   "cell_type": "code",
   "execution_count": 40,
   "id": "b696a3e7",
   "metadata": {},
   "outputs": [],
   "source": [
    "def load_model(model_class, model_params, checkpoint_dir=\"./checkpoints\", model_name=\"bilstm_space\", device=\"cpu\"):\n",
    "    \"\"\"\n",
    "    Загружает сохранённую модель и словарь символов для инференса или дообучения.\n",
    "    \"\"\"\n",
    "    checkpoint_dir = Path(checkpoint_dir)\n",
    "\n",
    "    # Загружаем словарь\n",
    "    with open(checkpoint_dir / f\"{model_name}_char2id.json\", \"r\", encoding=\"utf-8\") as f:\n",
    "        char2id = json.load(f)\n",
    "\n",
    "    # Создаём модель и загружаем веса\n",
    "    model = model_class(**model_params)\n",
    "    state_dict = torch.load(checkpoint_dir / f\"{model_name}.pt\", map_location=device)\n",
    "    model.load_state_dict(state_dict)\n",
    "    model.to(device)\n",
    "    model.eval()\n",
    "\n",
    "    print(f\"Модель {model_name} успешно загружена с устройства {device}\")\n",
    "\n",
    "    return model, char2id"
   ]
  },
  {
   "cell_type": "code",
   "execution_count": null,
   "id": "e4e72e39",
   "metadata": {},
   "outputs": [],
   "source": []
  },
  {
   "cell_type": "code",
   "execution_count": null,
   "id": "d3ee88ad",
   "metadata": {},
   "outputs": [
    {
     "name": "stdout",
     "output_type": "stream",
     "text": [
      "Модель и словарь сохранены в model\n"
     ]
    }
   ],
   "source": []
  }
 ],
 "metadata": {
  "kernelspec": {
   "display_name": ".venv",
   "language": "python",
   "name": "python3"
  },
  "language_info": {
   "codemirror_mode": {
    "name": "ipython",
    "version": 3
   },
   "file_extension": ".py",
   "mimetype": "text/x-python",
   "name": "python",
   "nbconvert_exporter": "python",
   "pygments_lexer": "ipython3",
   "version": "3.11.9"
  }
 },
 "nbformat": 4,
 "nbformat_minor": 5
}

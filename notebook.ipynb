{
  "cells": [
    {
      "cell_type": "markdown",
      "id": "a212b0bf",
      "metadata": {
        "id": "a212b0bf"
      },
      "source": [
        "# Тестовое задание Авито"
      ]
    },
    {
      "cell_type": "code",
      "execution_count": 81,
      "id": "52f12714",
      "metadata": {
        "id": "52f12714"
      },
      "outputs": [],
      "source": [
        "import re\n",
        "import unicodedata\n",
        "import random\n",
        "from pathlib import Path\n",
        "from typing import List, Tuple, Dict\n",
        "\n",
        "import numpy as np\n",
        "import pandas as pd\n",
        "import json\n",
        "import matplotlib.pyplot as plt\n",
        "from sklearn.model_selection import train_test_split\n",
        "\n",
        "import torch\n",
        "import torch.nn as nn\n",
        "from torch.utils.data import Dataset, DataLoader\n",
        "from torch.nn.utils.rnn import pad_sequence\n",
        "\n",
        "from torchcrf import CRF"
      ]
    },
    {
      "cell_type": "code",
      "execution_count": 82,
      "id": "4d3019b3",
      "metadata": {
        "id": "4d3019b3"
      },
      "outputs": [],
      "source": [
        "RANDOM_STATE = 99\n",
        "\n",
        "random.seed(RANDOM_STATE)\n",
        "np.random.seed(RANDOM_STATE)\n",
        "torch.manual_seed(RANDOM_STATE)\n",
        "torch.cuda.manual_seed(RANDOM_STATE)\n",
        "torch.cuda.manual_seed_all(RANDOM_STATE)\n",
        "torch.backends.cudnn.deterministic = True\n",
        "torch.backends.cudnn.benchmark = False"
      ]
    },
    {
      "cell_type": "markdown",
      "id": "165b8c57",
      "metadata": {
        "id": "165b8c57"
      },
      "source": [
        "## Создание датасета"
      ]
    },
    {
      "cell_type": "markdown",
      "id": "d671db10",
      "metadata": {
        "id": "d671db10"
      },
      "source": [
        "Код ниже выполняет следующие действия:\n",
        "1. Загружает строки из файла ./dataset_raw/articles.txt.\n",
        "2. Очищает каждую строку (Unicode-нормализация, удаление control chars, удаление эмодзи, нормализация пробелов).\n",
        "3. Разбивает на короткие сегменты (2–12 слов).\n",
        "4. Для каждого сегмента строит:\n",
        "    - вход (строка без пробелов),\n",
        "    - список меток (1 после символа, если там был пробел).\n",
        "5. Собирает словарь char2id (кириллица, латиница, цифры, знаки).\n",
        "6. Возвращает готовый датасет: X (индексы символов), y (метки), char2id.\n",
        "\n",
        "\n",
        "Для обучения модели используется файл articles.txt, взятый из датасета Complex Russian Dataset (https://www.kaggle.com/datasets/artalmaz31/complex-russian-dataset). Данный файл содержит статьи на разные темы, опубликованные на dzen.ru. Для обучения модели был взят именно этот набор текстов, так как он содержит тексты на русском языке с иногда встречающимися английскими названиями и числами, что по структуре напоминает тестовые данные. Кроме того, к нему были добавлены файлы books-A.txt и poems.txt, так как тестовые данные частично состоят из отрывков литературных произведений и песен."
      ]
    },
    {
      "cell_type": "code",
      "execution_count": 83,
      "id": "8a9402d7",
      "metadata": {
        "id": "8a9402d7"
      },
      "outputs": [],
      "source": [
        "def read_corpus(path: str) -> List[str]:\n",
        "    \"\"\"\n",
        "    Загружает корпус текстов из файла.\n",
        "\n",
        "    :param path: путь к файлу (каждая строка = статья или абзац).\n",
        "    :return: список строк\n",
        "    \"\"\"\n",
        "    with open(path, \"r\", encoding=\"utf-8\") as f:\n",
        "        lines = [line.strip() for line in f if line.strip()]\n",
        "    return lines"
      ]
    },
    {
      "cell_type": "code",
      "execution_count": 84,
      "id": "463970eb",
      "metadata": {
        "id": "463970eb"
      },
      "outputs": [],
      "source": [
        "def clean_text(text: str) -> str:\n",
        "    \"\"\"\n",
        "    Очищает текст:\n",
        "    - нормализует Unicode (NFC)\n",
        "    - удаляет управляющие символы\n",
        "    - нормализует пробелы\n",
        "    - удаляет эмодзи\n",
        "\n",
        "    :param text: исходная строка\n",
        "    :return: очищенный текст\n",
        "    \"\"\"\n",
        "    # Unicode нормализация\n",
        "    text = unicodedata.normalize(\"NFC\", text)\n",
        "\n",
        "    # Убираем control chars\n",
        "    text = \"\".join(ch for ch in text if unicodedata.category(ch)[0] != \"C\")\n",
        "\n",
        "    # Убираем эмодзи\n",
        "    emoji_pattern = re.compile(\"[\"\n",
        "        u\"\\U0001F600-\\U0001F64F\"\n",
        "        u\"\\U0001F300-\\U0001F5FF\"\n",
        "        u\"\\U0001F680-\\U0001F6FF\"\n",
        "        u\"\\U0001F1E0-\\U0001F1FF\"\n",
        "        u\"\\U00002700-\\U000027BF\"\n",
        "        u\"\\U000024C2-\\U0001F251\"\n",
        "        \"]+\", flags=re.UNICODE)\n",
        "    text = emoji_pattern.sub(\"\", text)\n",
        "\n",
        "    # Нормализация пробелов\n",
        "    text = re.sub(r\"\\s+\", \" \", text).strip()\n",
        "\n",
        "    return text"
      ]
    },
    {
      "cell_type": "code",
      "execution_count": 85,
      "id": "0cf03fb3",
      "metadata": {
        "id": "0cf03fb3"
      },
      "outputs": [],
      "source": [
        "def split_into_segments(text: str, min_words: int = 2, max_words: int = 12, stride=1) -> List[str]:\n",
        "    \"\"\"\n",
        "    Разбивает текст на короткие сегменты (min_words-max_words слов).\n",
        "\n",
        "    :param text: очищенный текст\n",
        "    :param min_words: минимум слов в сегменте\n",
        "    :param max_words: максимум слов в сегменте\n",
        "    :param stride: шаг смещения\n",
        "    :return: список коротких сегментов\n",
        "    \"\"\"\n",
        "    words = text.split()\n",
        "    segments = []\n",
        "    for start in range(0, len(words), stride):\n",
        "        length = np.random.randint(min_words, max_words+1)  # случайная длина\n",
        "        end = start + length\n",
        "        if end <= len(words):\n",
        "            segments.append(\" \".join(words[start:end]))\n",
        "    return segments"
      ]
    },
    {
      "cell_type": "code",
      "execution_count": 86,
      "id": "6a37ff81",
      "metadata": {
        "id": "6a37ff81"
      },
      "outputs": [],
      "source": [
        "def generate_no_space_input(segment: str) -> Tuple[str, List[int]]:\n",
        "    \"\"\"\n",
        "    Генерирует вход без пробелов и метки (0/1 после каждого символа).\n",
        "\n",
        "    :param segment: строка с пробелами\n",
        "    :return: (вход без пробелов, список меток)\n",
        "    \"\"\"\n",
        "    input_text = segment.replace(\" \", \"\")\n",
        "    labels = []\n",
        "    i = 0\n",
        "    for word in segment.split():\n",
        "        for j, ch in enumerate(word):\n",
        "            # Если символ последний в слове, ставим 1, иначе 0\n",
        "            if j == len(word) - 1 and i < len(input_text):\n",
        "                labels.append(1)\n",
        "            else:\n",
        "                labels.append(0)\n",
        "            i += 1\n",
        "    # Последний символ не должен иметь пробела после себя\n",
        "    if labels:\n",
        "        labels[-1] = 0\n",
        "    return input_text, labels"
      ]
    },
    {
      "cell_type": "code",
      "execution_count": 87,
      "id": "58f45d18",
      "metadata": {
        "id": "58f45d18"
      },
      "outputs": [],
      "source": [
        "def build_char2id(texts: List[str]) -> Dict[str, int]:\n",
        "    \"\"\"\n",
        "    Строит словарь символов для корпуса.\n",
        "\n",
        "    :param texts: список строк (inputs без пробелов)\n",
        "    :return: словарь {символ: id}\n",
        "    \"\"\"\n",
        "    chars = set(\"\".join(texts))\n",
        "    sorted_chars = sorted(chars)\n",
        "    char2id = {ch: idx + 1 for idx, ch in enumerate(sorted_chars)}  # Нумерация с 1\n",
        "    char2id[\"<PAD>\"] = 0  # Для паддингов\n",
        "    char2id[\"<UNK>\"] = len(char2id)  # Для неизвестных символов\n",
        "    return char2id"
      ]
    },
    {
      "cell_type": "code",
      "execution_count": 88,
      "id": "f96b2edf",
      "metadata": {
        "id": "f96b2edf"
      },
      "outputs": [],
      "source": [
        "def build_dataset(path: str, max_segments: int = 10000) -> Tuple[List[List[int]], List[List[int]], Dict[str, int]]:\n",
        "    \"\"\"\n",
        "    Основная функция: строит датасет из корпуса статей.\n",
        "\n",
        "    :param path: путь к файлу с текстами\n",
        "    :param max_segments: максимум сегментов в датасете\n",
        "    :return: (X, y, char2id)\n",
        "        X — список последовательностей индексов символов (inputs)\n",
        "        y — список меток (0/1 для каждого символа)\n",
        "        char2id — словарь символов\n",
        "    \"\"\"\n",
        "    lines = read_corpus(path)\n",
        "\n",
        "    # Очистка + сегментация\n",
        "    all_segments = []\n",
        "    for line in lines:\n",
        "        cleaned = clean_text(line)\n",
        "        segs = split_into_segments(cleaned)\n",
        "        all_segments.extend(segs)\n",
        "\n",
        "    # Перемешиваем и берем первые max_segments\n",
        "    random.shuffle(all_segments)\n",
        "    all_segments = all_segments[:max_segments]\n",
        "\n",
        "    # Генерация данных\n",
        "    inputs, labels = [], []\n",
        "    for seg in all_segments:\n",
        "        inp, lab = generate_no_space_input(seg)\n",
        "        if inp and lab:\n",
        "            inputs.append(inp)\n",
        "            labels.append(lab)\n",
        "\n",
        "    # Строим словарь\n",
        "    char2id = build_char2id(inputs)\n",
        "\n",
        "    # Преобразуем inputs в индексы\n",
        "    X = []\n",
        "    for text in inputs:\n",
        "        seq = [char2id.get(ch, char2id[\"<UNK>\"]) for ch in text]\n",
        "        X.append(seq)\n",
        "\n",
        "    return X, labels, char2id"
      ]
    },
    {
      "cell_type": "code",
      "execution_count": 89,
      "id": "9e9bd961",
      "metadata": {
        "id": "9e9bd961"
      },
      "outputs": [],
      "source": [
        "def save_dataset(X, y, char2id, out_dir=\"dataset\"):\n",
        "    \"\"\"\n",
        "    Сохраняет датасет и словарь для будущего использования.\n",
        "\n",
        "    Args:\n",
        "        X (np.ndarray): входные данные (последовательности id символов)\n",
        "        y (np.ndarray): целевые метки (бинарные маски для пробелов)\n",
        "        char2id (dict): словарь символ → id\n",
        "        out_dir (str): путь к директории для сохранения\n",
        "    \"\"\"\n",
        "    out_dir = Path(out_dir)\n",
        "    out_dir.mkdir(parents=True, exist_ok=True)\n",
        "\n",
        "    # Сохраняем X и y\n",
        "    np.save(out_dir / \"X.npy\", np.array(X, dtype=object))\n",
        "    np.save(out_dir / \"y.npy\", np.array(y, dtype=object))\n",
        "\n",
        "    # Сохраняем словарь\n",
        "    with open(out_dir / \"char2id.json\", \"w\", encoding=\"utf-8\") as f:\n",
        "        json.dump(char2id, f, ensure_ascii=False, indent=2)\n",
        "\n",
        "    print(f\"Датасет сохранён в {out_dir}\")"
      ]
    },
    {
      "cell_type": "code",
      "execution_count": 90,
      "id": "83499fa9",
      "metadata": {
        "id": "83499fa9"
      },
      "outputs": [],
      "source": [
        "def load_dataset(out_dir=\"dataset\"):\n",
        "    \"\"\"\n",
        "    Загружает ранее сохранённый датасет и словарь.\n",
        "\n",
        "    Args:\n",
        "        out_dir (str): путь к директории\n",
        "\n",
        "    Returns:\n",
        "        X (np.ndarray), y (np.ndarray), char2id (dict)\n",
        "    \"\"\"\n",
        "    out_dir = Path(out_dir)\n",
        "\n",
        "    X = np.load(out_dir / \"X.npy\", allow_pickle=True)\n",
        "    y = np.load(out_dir / \"y.npy\", allow_pickle=True)\n",
        "\n",
        "    with open(out_dir / \"char2id.json\", \"r\", encoding=\"utf-8\") as f:\n",
        "        char2id = json.load(f)\n",
        "\n",
        "    print(f\"Датасет загружен из {out_dir}\")\n",
        "    return X, y, char2id"
      ]
    },
    {
      "cell_type": "code",
      "execution_count": 126,
      "id": "Dh7uNAhBBDOu",
      "metadata": {
        "colab": {
          "base_uri": "https://localhost:8080/"
        },
        "id": "Dh7uNAhBBDOu",
        "outputId": "39faa63d-217e-4fc8-83a8-ec1a0131f044"
      },
      "outputs": [
        {
          "name": "stdout",
          "output_type": "stream",
          "text": [
            "Файлы объединены в ./dataset_raw/MERGED.txt\n"
          ]
        }
      ],
      "source": [
        "# Пути к исходным файлам\n",
        "file_paths = [\"./dataset_raw/articles.txt\", \"./dataset_raw/poems.txt\", \"./dataset_raw/books-A.txt\"]\n",
        "\n",
        "# Путь к выходному файлу\n",
        "output_path = \"./dataset_raw/MERGED.txt\"\n",
        "\n",
        "with open(output_path, \"w\", encoding=\"utf-8\") as outfile:\n",
        "    for path in file_paths:\n",
        "        with open(path, \"r\", encoding=\"utf-8\") as infile:\n",
        "            for line in infile:\n",
        "                outfile.write(line)\n",
        "        outfile.write(\"\\n\")\n",
        "\n",
        "print(f\"Файлы объединены в {output_path}\")"
      ]
    },
    {
      "cell_type": "code",
      "execution_count": 150,
      "id": "6f0406a3",
      "metadata": {
        "id": "6f0406a3"
      },
      "outputs": [],
      "source": [
        "dataset_path = \"./dataset_raw/MERGED.txt\"  # файл со статьями\n",
        "X, y, char2id = build_dataset(dataset_path, max_segments=50000)"
      ]
    },
    {
      "cell_type": "code",
      "execution_count": 151,
      "id": "924cd1a6",
      "metadata": {
        "colab": {
          "base_uri": "https://localhost:8080/"
        },
        "id": "924cd1a6",
        "outputId": "7427fc33-5574-4537-cf43-46472ce4d6c4"
      },
      "outputs": [
        {
          "name": "stdout",
          "output_type": "stream",
          "text": [
            "Датасет сохранён в dataset_processed\n"
          ]
        }
      ],
      "source": [
        "save_dataset(X, y, char2id, out_dir=\"./dataset_processed\")"
      ]
    },
    {
      "cell_type": "code",
      "execution_count": 152,
      "id": "e58030b0",
      "metadata": {
        "colab": {
          "base_uri": "https://localhost:8080/"
        },
        "id": "e58030b0",
        "outputId": "af5c68b0-0b9f-4936-a78c-20b74ecc5e3c"
      },
      "outputs": [
        {
          "name": "stdout",
          "output_type": "stream",
          "text": [
            "Датасет загружен из dataset_processed\n"
          ]
        }
      ],
      "source": [
        "X, y, char2id = load_dataset(\"./dataset_processed\")"
      ]
    },
    {
      "cell_type": "code",
      "execution_count": 153,
      "id": "5bf849ac",
      "metadata": {
        "colab": {
          "base_uri": "https://localhost:8080/"
        },
        "id": "5bf849ac",
        "outputId": "f634e90c-f22d-47f2-fc98-230485e58c80"
      },
      "outputs": [
        {
          "name": "stdout",
          "output_type": "stream",
          "text": [
            "Пример входа (индексы): [132, 162, 153, 163, 151, 163, 160, 177, 162, 163, 163, 166, 167, 154, 165, 26, 178, 164, 157, 152, 165, 149, 161, 161, 176, 154, 152, 163, 172, 149, 166, 167, 163, 156, 149, 150, 149, 151, 162, 176, 12, 162, 163, 162, 157, 159, 163, 152, 153, 149]\n",
            "Пример меток: [0, 1, 0, 0, 0, 0, 0, 0, 0, 1, 0, 0, 0, 0, 0, 1, 0, 0, 0, 0, 0, 0, 0, 0, 1, 0, 0, 1, 0, 0, 0, 0, 1, 0, 0, 0, 0, 0, 0, 0, 1, 0, 1, 0, 0, 0, 0, 0, 0, 0]\n",
            "Пример сегмента: Ондовольноостер:эпиграммыегочастозабавны,ноникогда\n",
            "Размер словаря: 205\n"
          ]
        }
      ],
      "source": [
        "print(\"Пример входа (индексы):\", X[0])\n",
        "print(\"Пример меток:\", y[0])\n",
        "print(\"Пример сегмента:\", \"\".join([list(char2id.keys())[list(char2id.values()).index(idx)] for idx in X[0]]))\n",
        "print(\"Размер словаря:\", len(char2id))"
      ]
    },
    {
      "cell_type": "markdown",
      "id": "1bbd24e1",
      "metadata": {
        "id": "1bbd24e1"
      },
      "source": [
        "## Подготовка DataLoader"
      ]
    },
    {
      "cell_type": "code",
      "execution_count": 131,
      "id": "2c10adc8",
      "metadata": {
        "id": "2c10adc8"
      },
      "outputs": [],
      "source": [
        "def prepare_tensors(X, y, pad_idx=0, ignore_index=0):\n",
        "    \"\"\"\n",
        "    Преобразует X, y в padded тензоры для обучения модели.\n",
        "\n",
        "    Args:\n",
        "        X (list of list[int]): список последовательностей индексов символов\n",
        "        y (list of list[int]): список последовательностей меток (0/1 для пробела)\n",
        "        pad_idx (int): индекс для паддинга входов\n",
        "        ignore_index (int): индекс для игнорируемых токенов в loss\n",
        "\n",
        "    Returns:\n",
        "        X_padded (torch.LongTensor): (batch_size, max_len)\n",
        "        y_padded (torch.LongTensor): (batch_size, max_len)\n",
        "    \"\"\"\n",
        "    X_tensors = [torch.tensor(seq, dtype=torch.long) for seq in X]\n",
        "    y_tensors = [torch.tensor(seq, dtype=torch.long) for seq in y]\n",
        "\n",
        "    X_padded = pad_sequence(X_tensors, batch_first=True, padding_value=pad_idx)\n",
        "    y_padded = pad_sequence(y_tensors, batch_first=True, padding_value=ignore_index)\n",
        "\n",
        "    return X_padded, y_padded"
      ]
    },
    {
      "cell_type": "code",
      "execution_count": 155,
      "id": "c1a96b6e",
      "metadata": {
        "id": "c1a96b6e"
      },
      "outputs": [],
      "source": [
        "X_train, X_val, y_train, y_val = train_test_split(X, y, test_size=0.2, random_state=RANDOM_STATE)"
      ]
    },
    {
      "cell_type": "code",
      "execution_count": 156,
      "id": "929930ec",
      "metadata": {
        "id": "929930ec"
      },
      "outputs": [],
      "source": [
        "X_train, y_train = prepare_tensors(X_train, y_train)\n",
        "X_val, y_val = prepare_tensors(X_val, y_val)"
      ]
    },
    {
      "cell_type": "code",
      "execution_count": 134,
      "id": "0bc0cb04",
      "metadata": {
        "id": "0bc0cb04"
      },
      "outputs": [],
      "source": [
        "class CharDataset(Dataset):\n",
        "    \"\"\"\n",
        "    Датасет для задачи восстановления пробелов.\n",
        "    Хранит padded X и y и возвращает батчи.\n",
        "    \"\"\"\n",
        "\n",
        "    def __init__(self, X, y):\n",
        "        \"\"\"\n",
        "        Args:\n",
        "            X (torch.LongTensor): (num_samples, max_len)\n",
        "            y (torch.LongTensor): (num_samples, max_len)\n",
        "        \"\"\"\n",
        "        self.X = X\n",
        "        self.y = y\n",
        "\n",
        "    def __len__(self):\n",
        "        return len(self.X)\n",
        "\n",
        "    def __getitem__(self, idx):\n",
        "        return self.X[idx], self.y[idx]"
      ]
    },
    {
      "cell_type": "code",
      "execution_count": 157,
      "id": "3148d542",
      "metadata": {
        "id": "3148d542"
      },
      "outputs": [],
      "source": [
        "batch_size = 32\n",
        "\n",
        "train_dataset = CharDataset(X_train, y_train)\n",
        "val_dataset = CharDataset(X_val, y_val)\n",
        "\n",
        "train_loader = DataLoader(train_dataset, batch_size=batch_size, shuffle=True)\n",
        "val_loader = DataLoader(val_dataset, batch_size=batch_size, shuffle=False)"
      ]
    },
    {
      "cell_type": "markdown",
      "id": "b58081fc",
      "metadata": {
        "id": "b58081fc"
      },
      "source": [
        "## Обучение модели"
      ]
    },
    {
      "cell_type": "markdown",
      "id": "012cb12e",
      "metadata": {},
      "source": [
        "В качестве модели используется BiLSTM с CRF-слоем на выходе. Такой подход часто применяется в задачах последовательной разметки, потому что он позволяет одновременно извлекать контекстные зависимости и учитывать глобальные ограничения на структуру предсказаний.  \n",
        "\n",
        "Модель содержит следующие элементы:\n",
        "- Embedding слой. Переводит символы в плотные векторные представления.\n",
        "- BiLSTM. Двунаправленная LSTM улавливает как левый, так и правый контекст.\n",
        "- LayerNorm и Dropout. Помогают стабилизировать обучение и улучшают обобщающую способность модели. Были добавлены, чтобы избежать переобучения, которое наблюдалось при первых экспериментах.\n",
        "- FC-слой. Преобразует скрытые состояния в логиты для двух классов (пробел / не пробел).\n",
        "- RF-слой. Финальный слой, который позволяет делать глобально согласованные предсказания по всей последовательности. В отличие от простого softmax, CRF учитывает переходы между метками, что особенно полезно в задачах разметки текста.\n",
        "\n",
        "Таким образом, модель одновременно достаточно лёгкая (по сравнению с трансформерами) и при этом показывает хорошую точность при работе с последовательностями символов. BiLSTM хорошо работает на относительно коротких последовательностях, а CRF улучшает качество, сглаживая ошибки и учитывая взаимозависимости между соседними метками."
      ]
    },
    {
      "cell_type": "code",
      "execution_count": null,
      "id": "d5776120",
      "metadata": {
        "id": "d5776120"
      },
      "outputs": [],
      "source": [
        "def compute_f1(y_true, y_pred, ignore_index=-100):\n",
        "    \"\"\"\n",
        "    Считает средний F1 по батчу текстов.\n",
        "\n",
        "    Args:\n",
        "        y_true (torch.Tensor): (batch, seq_len) целевые метки (0/1), паддинг = ignore_index\n",
        "        y_pred (torch.Tensor): (batch, seq_len) предсказанные метки (0/1)\n",
        "        ignore_index (int): индекс для паддинга, который исключаем из метрик\n",
        "\n",
        "    Returns:\n",
        "        f1 (float): средний F1 по батчу\n",
        "    \"\"\"\n",
        "    y_true = y_true.cpu().numpy()\n",
        "    y_pred = y_pred.cpu().numpy()\n",
        "\n",
        "    f1_scores = []\n",
        "\n",
        "    for true_seq, pred_seq in zip(y_true, y_pred):\n",
        "        # Убираем паддинг\n",
        "        mask = true_seq != ignore_index\n",
        "        true_seq = true_seq[mask]\n",
        "        pred_seq = pred_seq[mask]\n",
        "\n",
        "        # позиции пробелов (индексы, где == 1)\n",
        "        true_spaces = set(np.where(true_seq == 1)[0])\n",
        "        pred_spaces = set(np.where(pred_seq == 1)[0])\n",
        "\n",
        "        if len(true_spaces) == 0 and len(pred_spaces) == 0:\n",
        "            f1_scores.append(1.0)  # оба пустые - полное совпадение\n",
        "            continue\n",
        "        if len(pred_spaces) == 0:\n",
        "            f1_scores.append(0.0)\n",
        "            continue\n",
        "\n",
        "        precision = len(true_spaces & pred_spaces) / len(pred_spaces)\n",
        "        recall = len(true_spaces & pred_spaces) / len(true_spaces) if len(true_spaces) > 0 else 0.0\n",
        "\n",
        "        if precision + recall == 0:\n",
        "            f1 = 0.0\n",
        "        else:\n",
        "            f1 = 2 * (precision * recall) / (precision + recall)\n",
        "\n",
        "        f1_scores.append(f1)\n",
        "\n",
        "    return float(np.mean(f1_scores))"
      ]
    },
    {
      "cell_type": "code",
      "execution_count": null,
      "id": "4ea38d9e",
      "metadata": {
        "id": "4ea38d9e"
      },
      "outputs": [],
      "source": [
        "class BiLSTM_CRF(nn.Module):\n",
        "    def __init__(self, vocab_size, embed_dim=128, hidden_dim=256, num_layers=2, pad_idx=0):\n",
        "        super().__init__()\n",
        "        self.embedding = nn.Embedding(vocab_size, embed_dim, padding_idx=pad_idx)\n",
        "        self.embedding_dropout = nn.Dropout(0.5)\n",
        "        self.lstm = nn.LSTM(\n",
        "            input_size=embed_dim,\n",
        "            hidden_size=hidden_dim,\n",
        "            num_layers=num_layers,\n",
        "            batch_first=True,\n",
        "            bidirectional=True\n",
        "        )\n",
        "        self.ln = nn.LayerNorm(hidden_dim*2)\n",
        "        self.fc_dropout = nn.Dropout(0.5)\n",
        "        self.fc = nn.Linear(hidden_dim*2, 2)\n",
        "        self.crf = CRF(num_tags=2, batch_first=True)\n",
        "\n",
        "    def forward(self, x, tags=None, mask=None):\n",
        "        \"\"\"\n",
        "        Args:\n",
        "            x: [batch, seq_len] индексы символов\n",
        "            tags: [batch, seq_len] метки (0/1), для обучения\n",
        "            mask: [batch, seq_len] 1=реальный символ, 0=padding\n",
        "        Returns:\n",
        "            Если tags передан: loss\n",
        "            Иначе: предсказанные метки\n",
        "        \"\"\"\n",
        "        emb = self.embedding(x)  # [batch, seq_len, embed_dim]\n",
        "        emb = self.embedding_dropout(emb)\n",
        "        lstm_out, _ = self.lstm(emb)  # [batch, seq_len, hidden_dim*2]\n",
        "        lstm_out = self.ln(lstm_out)\n",
        "        lstm_out = self.fc_dropout(lstm_out)\n",
        "        emissions = self.fc(lstm_out)  # [batch, seq_len, 2]\n",
        "\n",
        "        if tags is not None:\n",
        "            # обучение\n",
        "            loss = -self.crf(emissions, tags, mask=mask, reduction='mean')\n",
        "            return loss\n",
        "        else:\n",
        "            # инференс\n",
        "            pred_tags = self.crf.decode(emissions, mask=mask)\n",
        "            return pred_tags"
      ]
    },
    {
      "cell_type": "code",
      "execution_count": 165,
      "id": "8nPdxiNsfG1r",
      "metadata": {
        "id": "8nPdxiNsfG1r"
      },
      "outputs": [],
      "source": [
        "def save_model(model, char2id, out_dir=\"./checkpoints\", model_name=\"bilstm_space\"):\n",
        "    \"\"\"\n",
        "    Сохраняет модель и словарь символов.\n",
        "    \"\"\"\n",
        "    out_dir = Path(out_dir)\n",
        "    out_dir.mkdir(parents=True, exist_ok=True)\n",
        "\n",
        "    # Сохраняем веса модели\n",
        "    torch.save(model.state_dict(), out_dir / f\"{model_name}.pt\")\n",
        "\n",
        "    # Сохраняем словарь\n",
        "    with open(out_dir / f\"{model_name}_char2id.json\", \"w\", encoding=\"utf-8\") as f:\n",
        "        json.dump(char2id, f, ensure_ascii=False, indent=2)\n",
        "\n",
        "    print(f\"Модель и словарь сохранены в {out_dir}\")"
      ]
    },
    {
      "cell_type": "code",
      "execution_count": null,
      "id": "5b582da1",
      "metadata": {
        "id": "5b582da1"
      },
      "outputs": [],
      "source": [
        "def train_model(model, train_loader, val_loader, optimizer, num_epochs=10, pad_idx=0, device=\"cpu\"):\n",
        "    history = {\"train_loss\": [], \"val_loss\": [], \"train_f1\": [], \"val_f1\": []}\n",
        "    model = model.to(device)\n",
        "    best_val_f1 = 0\n",
        "\n",
        "    for epoch in range(1, num_epochs+1):\n",
        "        # --- Train ---\n",
        "        model.train()\n",
        "        train_loss, train_f1 = 0.0, 0.0\n",
        "\n",
        "        for X_batch, y_batch in train_loader:\n",
        "            X_batch, y_batch = X_batch.to(device), y_batch.to(device)\n",
        "            mask = (X_batch != pad_idx).to(device)  # создаём маску\n",
        "\n",
        "            optimizer.zero_grad()\n",
        "            loss = model(X_batch, tags=y_batch, mask=mask)\n",
        "            loss.backward()\n",
        "            optimizer.step()\n",
        "\n",
        "            train_loss += loss.item()\n",
        "\n",
        "            # предсказания для F1\n",
        "            with torch.no_grad():\n",
        "                preds = model(X_batch, mask=mask)\n",
        "                preds_tensor = torch.zeros_like(y_batch)\n",
        "                for i, seq in enumerate(preds):\n",
        "                    preds_tensor[i, :len(seq)] = torch.tensor(seq, device=device)\n",
        "                f1 = compute_f1(y_batch, preds_tensor)\n",
        "                train_f1 += f1\n",
        "\n",
        "        train_loss /= len(train_loader)\n",
        "        train_f1 /= len(train_loader)\n",
        "\n",
        "        # --- Validation ---\n",
        "        model.eval()\n",
        "        val_loss, val_f1 = 0.0, 0.0\n",
        "\n",
        "        with torch.no_grad():\n",
        "            for X_batch, y_batch in val_loader:\n",
        "                X_batch, y_batch = X_batch.to(device), y_batch.to(device)\n",
        "                mask = (X_batch != pad_idx).to(device)  # создаём маску\n",
        "\n",
        "                loss = model(X_batch, tags=y_batch, mask=mask)\n",
        "                val_loss += loss.item()\n",
        "\n",
        "                preds = model(X_batch, mask=mask)\n",
        "                preds_tensor = torch.zeros_like(y_batch)\n",
        "                for i, seq in enumerate(preds):\n",
        "                    preds_tensor[i, :len(seq)] = torch.tensor(seq, device=device)\n",
        "                f1 = compute_f1(y_batch, preds_tensor)\n",
        "                val_f1 += f1\n",
        "\n",
        "        val_loss /= len(val_loader)\n",
        "        val_f1 /= len(val_loader)\n",
        "\n",
        "        # Сохранение лучшей модели по валидации\n",
        "        if val_f1 > best_val_f1:\n",
        "            save_model(model, char2id, out_dir=\"./model\", model_name=\"bilstm_crf_space_v3\")\n",
        "            best_val_f1 = val_f1\n",
        "\n",
        "        history[\"train_loss\"].append(train_loss)\n",
        "        history[\"val_loss\"].append(val_loss)\n",
        "        history[\"train_f1\"].append(train_f1)\n",
        "        history[\"val_f1\"].append(val_f1)\n",
        "\n",
        "        print(f\"Epoch {epoch}/{num_epochs} | \"\n",
        "              f\"Train Loss: {train_loss:.4f}, Train F1: {train_f1:.4f} | \"\n",
        "              f\"Val Loss: {val_loss:.4f}, Val F1: {val_f1:.4f}\")\n",
        "\n",
        "    return history\n"
      ]
    },
    {
      "cell_type": "code",
      "execution_count": 168,
      "id": "dc90e589",
      "metadata": {
        "colab": {
          "base_uri": "https://localhost:8080/"
        },
        "id": "dc90e589",
        "outputId": "75a881d8-e123-4b55-9a12-1ce113958b76"
      },
      "outputs": [
        {
          "name": "stdout",
          "output_type": "stream",
          "text": [
            "Модель и словарь сохранены в model\n",
            "Epoch 1/10 | Train Loss: 4.5719, Train F1: 0.7814 | Val Loss: 2.2617, Val F1: 0.9019\n",
            "Модель и словарь сохранены в model\n",
            "Epoch 2/10 | Train Loss: 2.0258, Train F1: 0.9175 | Val Loss: 1.5299, Val F1: 0.9370\n",
            "Модель и словарь сохранены в model\n",
            "Epoch 3/10 | Train Loss: 1.3690, Train F1: 0.9468 | Val Loss: 1.2318, Val F1: 0.9485\n",
            "Модель и словарь сохранены в model\n",
            "Epoch 4/10 | Train Loss: 1.0254, Train F1: 0.9616 | Val Loss: 1.1473, Val F1: 0.9564\n",
            "Модель и словарь сохранены в model\n",
            "Epoch 5/10 | Train Loss: 0.8098, Train F1: 0.9704 | Val Loss: 1.1130, Val F1: 0.9590\n",
            "Модель и словарь сохранены в model\n",
            "Epoch 6/10 | Train Loss: 0.6503, Train F1: 0.9759 | Val Loss: 1.1020, Val F1: 0.9602\n",
            "Модель и словарь сохранены в model\n",
            "Epoch 7/10 | Train Loss: 0.5478, Train F1: 0.9803 | Val Loss: 1.0826, Val F1: 0.9629\n",
            "Модель и словарь сохранены в model\n",
            "Epoch 8/10 | Train Loss: 0.4702, Train F1: 0.9832 | Val Loss: 1.1315, Val F1: 0.9635\n",
            "Epoch 9/10 | Train Loss: 0.4092, Train F1: 0.9857 | Val Loss: 1.1764, Val F1: 0.9623\n",
            "Модель и словарь сохранены в model\n",
            "Epoch 10/10 | Train Loss: 0.3649, Train F1: 0.9874 | Val Loss: 1.1668, Val F1: 0.9643\n"
          ]
        }
      ],
      "source": [
        "device = \"cuda\" if torch.cuda.is_available() else \"cpu\"\n",
        "\n",
        "model = BiLSTM_CRF(vocab_size=len(char2id), embed_dim=128, hidden_dim=256, num_layers=3)\n",
        "optimizer = torch.optim.AdamW(model.parameters(), lr=1e-3, weight_decay=1e-2)\n",
        "\n",
        "history = train_model(model, train_loader, val_loader, optimizer, num_epochs=10, device=device)"
      ]
    },
    {
      "cell_type": "code",
      "execution_count": 169,
      "id": "61c8cd36",
      "metadata": {
        "colab": {
          "base_uri": "https://localhost:8080/",
          "height": 507
        },
        "id": "61c8cd36",
        "outputId": "7b0f489c-66e1-4594-d99e-7c9baf5def1c"
      },
      "outputs": [
        {
          "data": {
            "image/png": "[encoded data removed]",
            "text/plain": [
              "<Figure size 1200x500 with 2 Axes>"
            ]
          },
          "metadata": {},
          "output_type": "display_data"
        }
      ],
      "source": [
        "epochs = range(1, len(history[\"train_loss\"]) + 1)\n",
        "\n",
        "plt.figure(figsize=(12, 5))\n",
        "\n",
        "# --- Loss ---\n",
        "plt.subplot(1, 2, 1)\n",
        "plt.plot(epochs, history[\"train_loss\"], label=\"Train Loss\")\n",
        "plt.plot(epochs, history[\"val_loss\"], label=\"Val Loss\")\n",
        "plt.xlabel(\"Epoch\")\n",
        "plt.ylabel(\"Loss\")\n",
        "plt.title(\"Loss per Epoch\")\n",
        "plt.legend()\n",
        "\n",
        "# --- F1 ---\n",
        "plt.subplot(1, 2, 2)\n",
        "plt.plot(epochs, history[\"train_f1\"], label=\"Train F1\")\n",
        "plt.plot(epochs, history[\"val_f1\"], label=\"Val F1\")\n",
        "plt.xlabel(\"Epoch\")\n",
        "plt.ylabel(\"F1-score\")\n",
        "plt.title(\"F1-score per Epoch\")\n",
        "plt.legend()\n",
        "\n",
        "plt.tight_layout()"
      ]
    },
    {
      "cell_type": "markdown",
      "id": "85d50930",
      "metadata": {
        "id": "85d50930"
      },
      "source": [
        "## Инференс"
      ]
    },
    {
      "cell_type": "markdown",
      "id": "95342887",
      "metadata": {},
      "source": [
        "Код ниже содержит функции для загрузки сохраненных весов модели и создания файла с предсказаниями на основе входного txt файла."
      ]
    },
    {
      "cell_type": "code",
      "execution_count": null,
      "id": "b696a3e7",
      "metadata": {
        "id": "b696a3e7"
      },
      "outputs": [],
      "source": [
        "def load_model(model_class, model_params, checkpoint_dir=\"./checkpoints\", model_name=\"bilstm_space\", device=\"cpu\"):\n",
        "    \"\"\"\n",
        "    Загружает сохранённую модель и словарь символов для инференса или дообучения.\n",
        "\n",
        "    Args:\n",
        "        model_class (nn.Module): класс модели\n",
        "        model_params (dict): параметры для инициализации модели\n",
        "        checkpoint_dir (str): директория с сохранёнными файлами (веса и словарь)\n",
        "        model_name (str): имя модели (без расширения)\n",
        "        device (str): устройство для загрузки (\"cpu\" или \"cuda\")\n",
        "\n",
        "    Returns:\n",
        "        model (nn.Module): восстановленная модель в режиме eval\n",
        "        char2id (dict): словарь символов → индексы\n",
        "    \"\"\"\n",
        "\n",
        "    checkpoint_dir = Path(checkpoint_dir)\n",
        "\n",
        "    # Загружаем словарь\n",
        "    with open(checkpoint_dir / f\"{model_name}_char2id.json\", \"r\", encoding=\"utf-8\") as f:\n",
        "        char2id = json.load(f)\n",
        "\n",
        "    # Создаём модель и загружаем веса\n",
        "    model = model_class(**model_params)\n",
        "    state_dict = torch.load(checkpoint_dir / f\"{model_name}.pt\", map_location=device)\n",
        "    model.load_state_dict(state_dict)\n",
        "    model.to(device)\n",
        "    model.eval()\n",
        "\n",
        "    print(f\"Модель {model_name} успешно загружена\")\n",
        "\n",
        "    return model, char2id"
      ]
    },
    {
      "cell_type": "code",
      "execution_count": null,
      "id": "e4e72e39",
      "metadata": {
        "id": "e4e72e39"
      },
      "outputs": [],
      "source": [
        "def text_to_tensor(text, char2id, max_len=128, device=\"cpu\"):\n",
        "    \"\"\"\n",
        "    Преобразует строку без пробелов в тензор индексов с паддингом.\n",
        "\n",
        "    Args:\n",
        "        text (str): строка текста без пробелов\n",
        "        char2id (dict): словарь символов → индексы\n",
        "        max_len (int): максимальная длина последовательности (усечение или паддинг)\n",
        "        device (str): устройство (\"cpu\" или \"cuda\")\n",
        "\n",
        "    Returns:\n",
        "        torch.Tensor: тензор индексов формы (1, max_len)\n",
        "    \"\"\"\n",
        "    \n",
        "    ids = [char2id.get(ch, char2id[\"<UNK>\"]) for ch in text]\n",
        "    if len(ids) < max_len:\n",
        "        ids = ids + [char2id[\"<PAD>\"]] * (max_len - len(ids))\n",
        "    else:\n",
        "        ids = ids[:max_len]\n",
        "    return torch.tensor(ids, dtype=torch.long, device=device).unsqueeze(0)"
      ]
    },
    {
      "cell_type": "code",
      "execution_count": null,
      "id": "45406357",
      "metadata": {
        "id": "45406357"
      },
      "outputs": [],
      "source": [
        "def infer_file(model, char2id, input_path, output_path, max_len=128, pad_idx=0, device=\"cpu\"):\n",
        "    \"\"\"\n",
        "    Выполняет инференс для набора строк и сохраняет предсказания в CSV.\n",
        "\n",
        "    Args:\n",
        "        model (nn.Module): обученная модель\n",
        "        char2id (dict): словарь символов → индексы\n",
        "        input_path (str | Path): путь к входному TXT файлу (id, text)\n",
        "        output_path (str | Path): путь для сохранения результата\n",
        "        max_len (int): максимальная длина последовательности\n",
        "        pad_idx (int): индекс паддинга\n",
        "        device (str): устройство (\"cpu\" или \"cuda\")\n",
        "\n",
        "    Returns:\n",
        "        pd.DataFrame: таблица с предсказанными позициями пробелов\n",
        "    \"\"\"\n",
        "    input_path = Path(input_path)\n",
        "    output_path = Path(output_path)\n",
        "\n",
        "    results = []\n",
        "\n",
        "    model.eval()\n",
        "\n",
        "    with open(input_path, \"r\", encoding=\"utf-8\") as f:\n",
        "        next(f)\n",
        "\n",
        "        for line in f:\n",
        "            line = line.strip()\n",
        "            if not line:\n",
        "                continue\n",
        "            sample_id, text = line.split(\",\", 1)\n",
        "\n",
        "            # Преобразуем текст в индексы\n",
        "            x = text_to_tensor(text, char2id, max_len=max_len, device=device)\n",
        "\n",
        "            with torch.no_grad():\n",
        "                mask = (x != pad_idx).to(device)\n",
        "                preds_list = model(x, mask=mask)  # decode через CRF\n",
        "                preds = preds_list[0]             # единственный пример в батче\n",
        "\n",
        "            positions = [i + 1 for i, label in enumerate(preds[:len(text)]) if label == 1]\n",
        "\n",
        "            results.append({\"id\": sample_id, \"predicted_positions\": str(positions)})\n",
        "\n",
        "    df = pd.DataFrame(results)\n",
        "    df.to_csv(output_path, index=False)\n",
        "\n",
        "    print(f\"Результат сохранён в {output_path}\")\n",
        "    return df"
      ]
    },
    {
      "cell_type": "code",
      "execution_count": 173,
      "id": "41167cf2",
      "metadata": {
        "colab": {
          "base_uri": "https://localhost:8080/"
        },
        "id": "41167cf2",
        "outputId": "d67a5d6e-d5e4-43de-b6dd-cc147db897ed"
      },
      "outputs": [
        {
          "name": "stdout",
          "output_type": "stream",
          "text": [
            "Модель bilstm_crf_space_v3 успешно загружена\n"
          ]
        }
      ],
      "source": [
        "device = \"cuda\" if torch.cuda.is_available() else \"cpu\"\n",
        "\n",
        "model_params = {\n",
        "    \"vocab_size\": len(char2id),\n",
        "    \"embed_dim\": 128,\n",
        "    \"hidden_dim\": 256,\n",
        "    \"num_layers\": 3,\n",
        "    \"pad_idx\": 0\n",
        "}\n",
        "\n",
        "model_loaded, char2id_loaded = load_model(\n",
        "    model_class=BiLSTM_CRF,\n",
        "    model_params=model_params,\n",
        "    checkpoint_dir=\"./model\",\n",
        "    model_name=\"bilstm_crf_space_v3\",\n",
        "    device=device\n",
        ")"
      ]
    },
    {
      "cell_type": "code",
      "execution_count": 174,
      "id": "94a6f3c8",
      "metadata": {
        "colab": {
          "base_uri": "https://localhost:8080/"
        },
        "id": "94a6f3c8",
        "outputId": "743e6a92-3e3c-44d4-e021-6d3537a64d6b"
      },
      "outputs": [
        {
          "name": "stdout",
          "output_type": "stream",
          "text": [
            "Результат сохранён в submits/submit5.csv\n"
          ]
        }
      ],
      "source": [
        "df_results = infer_file(\n",
        "    model=model_loaded,\n",
        "    char2id=char2id_loaded,\n",
        "    input_path=\"./test_data/dataset_1937770_3.txt\",\n",
        "    output_path=\"./submits/submit5.csv\",\n",
        "    max_len=128,\n",
        "    device=device\n",
        ")"
      ]
    },
    {
      "cell_type": "code",
      "execution_count": 175,
      "id": "tQevNqM76uA_",
      "metadata": {
        "colab": {
          "base_uri": "https://localhost:8080/",
          "height": 423
        },
        "id": "tQevNqM76uA_",
        "outputId": "b991394f-4012-46a8-f647-c1d424c2b281"
      },
      "outputs": [
        {
          "data": {
            "application/vnd.google.colaboratory.intrinsic+json": {
              "summary": "{\n  \"name\": \"df_results\",\n  \"rows\": 1005,\n  \"fields\": [\n    {\n      \"column\": \"id\",\n      \"properties\": {\n        \"dtype\": \"string\",\n        \"num_unique_values\": 1005,\n        \"samples\": [\n          \"926\",\n          \"630\",\n          \"682\"\n        ],\n        \"semantic_type\": \"\",\n        \"description\": \"\"\n      }\n    },\n    {\n      \"column\": \"predicted_positions\",\n      \"properties\": {\n        \"dtype\": \"string\",\n        \"num_unique_values\": 671,\n        \"samples\": [\n          \"[2, 5, 10, 13, 25]\",\n          \"[3, 7, 13]\",\n          \"[5, 6, 11, 20, 22, 28, 32, 38]\"\n        ],\n        \"semantic_type\": \"\",\n        \"description\": \"\"\n      }\n    }\n  ]\n}",
              "type": "dataframe",
              "variable_name": "df_results"
            },
            "text/html": [
              "\n",
              "  <div id=\"df-5b3c92fd-d73c-478b-8c5c-5c01616a95d7\" class=\"colab-df-container\">\n",
              "    <div>\n",
              "<style scoped>\n",
              "    .dataframe tbody tr th:only-of-type {\n",
              "        vertical-align: middle;\n",
              "    }\n",
              "\n",
              "    .dataframe tbody tr th {\n",
              "        vertical-align: top;\n",
              "    }\n",
              "\n",
              "    .dataframe thead th {\n",
              "        text-align: right;\n",
              "    }\n",
              "</style>\n",
              "<table border=\"1\" class=\"dataframe\">\n",
              "  <thead>\n",
              "    <tr style=\"text-align: right;\">\n",
              "      <th></th>\n",
              "      <th>id</th>\n",
              "      <th>predicted_positions</th>\n",
              "    </tr>\n",
              "  </thead>\n",
              "  <tbody>\n",
              "    <tr>\n",
              "      <th>0</th>\n",
              "      <td>0</td>\n",
              "      <td>[5, 10, 12]</td>\n",
              "    </tr>\n",
              "    <tr>\n",
              "      <th>1</th>\n",
              "      <td>1</td>\n",
              "      <td>[1, 6, 7]</td>\n",
              "    </tr>\n",
              "    <tr>\n",
              "      <th>2</th>\n",
              "      <td>2</td>\n",
              "      <td>[1, 4, 12, 20, 21]</td>\n",
              "    </tr>\n",
              "    <tr>\n",
              "      <th>3</th>\n",
              "      <td>3</td>\n",
              "      <td>[5, 10, 18]</td>\n",
              "    </tr>\n",
              "    <tr>\n",
              "      <th>4</th>\n",
              "      <td>4</td>\n",
              "      <td>[5, 10]</td>\n",
              "    </tr>\n",
              "    <tr>\n",
              "      <th>...</th>\n",
              "      <td>...</td>\n",
              "      <td>...</td>\n",
              "    </tr>\n",
              "    <tr>\n",
              "      <th>1000</th>\n",
              "      <td>1000</td>\n",
              "      <td>[1, 3]</td>\n",
              "    </tr>\n",
              "    <tr>\n",
              "      <th>1001</th>\n",
              "      <td>1001</td>\n",
              "      <td>[7, 10, 12, 16]</td>\n",
              "    </tr>\n",
              "    <tr>\n",
              "      <th>1002</th>\n",
              "      <td>1002</td>\n",
              "      <td>[5, 6, 11, 19]</td>\n",
              "    </tr>\n",
              "    <tr>\n",
              "      <th>1003</th>\n",
              "      <td>1003</td>\n",
              "      <td>[8, 19, 22]</td>\n",
              "    </tr>\n",
              "    <tr>\n",
              "      <th>1004</th>\n",
              "      <td>1004</td>\n",
              "      <td>[9, 12]</td>\n",
              "    </tr>\n",
              "  </tbody>\n",
              "</table>\n",
              "<p>1005 rows × 2 columns</p>\n",
              "</div>\n",
              "    <div class=\"colab-df-buttons\">\n",
              "\n",
              "  <div class=\"colab-df-container\">\n",
              "    <button class=\"colab-df-convert\" onclick=\"convertToInteractive('df-5b3c92fd-d73c-478b-8c5c-5c01616a95d7')\"\n",
              "            title=\"Convert this dataframe to an interactive table.\"\n",
              "            style=\"display:none;\">\n",
              "\n",
              "  <svg xmlns=\"http://www.w3.org/2000/svg\" height=\"24px\" viewBox=\"0 -960 960 960\">\n",
              "    <path d=\"M120-120v-720h720v720H120Zm60-500h600v-160H180v160Zm220 220h160v-160H400v160Zm0 220h160v-160H400v160ZM180-400h160v-160H180v160Zm440 0h160v-160H620v160ZM180-180h160v-160H180v160Zm440 0h160v-160H620v160Z\"/>\n",
              "  </svg>\n",
              "    </button>\n",
              "\n",
              "  <style>\n",
              "    .colab-df-container {\n",
              "      display:flex;\n",
              "      gap: 12px;\n",
              "    }\n",
              "\n",
              "    .colab-df-convert {\n",
              "      background-color: #E8F0FE;\n",
              "      border: none;\n",
              "      border-radius: 50%;\n",
              "      cursor: pointer;\n",
              "      display: none;\n",
              "      fill: #1967D2;\n",
              "      height: 32px;\n",
              "      padding: 0 0 0 0;\n",
              "      width: 32px;\n",
              "    }\n",
              "\n",
              "    .colab-df-convert:hover {\n",
              "      background-color: #E2EBFA;\n",
              "      box-shadow: 0px 1px 2px rgba(60, 64, 67, 0.3), 0px 1px 3px 1px rgba(60, 64, 67, 0.15);\n",
              "      fill: #174EA6;\n",
              "    }\n",
              "\n",
              "    .colab-df-buttons div {\n",
              "      margin-bottom: 4px;\n",
              "    }\n",
              "\n",
              "    [theme=dark] .colab-df-convert {\n",
              "      background-color: #3B4455;\n",
              "      fill: #D2E3FC;\n",
              "    }\n",
              "\n",
              "    [theme=dark] .colab-df-convert:hover {\n",
              "      background-color: #434B5C;\n",
              "      box-shadow: 0px 1px 3px 1px rgba(0, 0, 0, 0.15);\n",
              "      filter: drop-shadow(0px 1px 2px rgba(0, 0, 0, 0.3));\n",
              "      fill: #FFFFFF;\n",
              "    }\n",
              "  </style>\n",
              "\n",
              "    <script>\n",
              "      const buttonEl =\n",
              "        document.querySelector('#df-5b3c92fd-d73c-478b-8c5c-5c01616a95d7 button.colab-df-convert');\n",
              "      buttonEl.style.display =\n",
              "        google.colab.kernel.accessAllowed ? 'block' : 'none';\n",
              "\n",
              "      async function convertToInteractive(key) {\n",
              "        const element = document.querySelector('#df-5b3c92fd-d73c-478b-8c5c-5c01616a95d7');\n",
              "        const dataTable =\n",
              "          await google.colab.kernel.invokeFunction('convertToInteractive',\n",
              "                                                    [key], {});\n",
              "        if (!dataTable) return;\n",
              "\n",
              "        const docLinkHtml = 'Like what you see? Visit the ' +\n",
              "          '<a target=\"_blank\" href=https://colab.research.google.com/notebooks/data_table.ipynb>data table notebook</a>'\n",
              "          + ' to learn more about interactive tables.';\n",
              "        element.innerHTML = '';\n",
              "        dataTable['output_type'] = 'display_data';\n",
              "        await google.colab.output.renderOutput(dataTable, element);\n",
              "        const docLink = document.createElement('div');\n",
              "        docLink.innerHTML = docLinkHtml;\n",
              "        element.appendChild(docLink);\n",
              "      }\n",
              "    </script>\n",
              "  </div>\n",
              "\n",
              "\n",
              "    <div id=\"df-fcd6f60d-b564-404a-87bd-9e4a8c7ef9dc\">\n",
              "      <button class=\"colab-df-quickchart\" onclick=\"quickchart('df-fcd6f60d-b564-404a-87bd-9e4a8c7ef9dc')\"\n",
              "                title=\"Suggest charts\"\n",
              "                style=\"display:none;\">\n",
              "\n",
              "<svg xmlns=\"http://www.w3.org/2000/svg\" height=\"24px\"viewBox=\"0 0 24 24\"\n",
              "     width=\"24px\">\n",
              "    <g>\n",
              "        <path d=\"M19 3H5c-1.1 0-2 .9-2 2v14c0 1.1.9 2 2 2h14c1.1 0 2-.9 2-2V5c0-1.1-.9-2-2-2zM9 17H7v-7h2v7zm4 0h-2V7h2v10zm4 0h-2v-4h2v4z\"/>\n",
              "    </g>\n",
              "</svg>\n",
              "      </button>\n",
              "\n",
              "<style>\n",
              "  .colab-df-quickchart {\n",
              "      --bg-color: #E8F0FE;\n",
              "      --fill-color: #1967D2;\n",
              "      --hover-bg-color: #E2EBFA;\n",
              "      --hover-fill-color: #174EA6;\n",
              "      --disabled-fill-color: #AAA;\n",
              "      --disabled-bg-color: #DDD;\n",
              "  }\n",
              "\n",
              "  [theme=dark] .colab-df-quickchart {\n",
              "      --bg-color: #3B4455;\n",
              "      --fill-color: #D2E3FC;\n",
              "      --hover-bg-color: #434B5C;\n",
              "      --hover-fill-color: #FFFFFF;\n",
              "      --disabled-bg-color: #3B4455;\n",
              "      --disabled-fill-color: #666;\n",
              "  }\n",
              "\n",
              "  .colab-df-quickchart {\n",
              "    background-color: var(--bg-color);\n",
              "    border: none;\n",
              "    border-radius: 50%;\n",
              "    cursor: pointer;\n",
              "    display: none;\n",
              "    fill: var(--fill-color);\n",
              "    height: 32px;\n",
              "    padding: 0;\n",
              "    width: 32px;\n",
              "  }\n",
              "\n",
              "  .colab-df-quickchart:hover {\n",
              "    background-color: var(--hover-bg-color);\n",
              "    box-shadow: 0 1px 2px rgba(60, 64, 67, 0.3), 0 1px 3px 1px rgba(60, 64, 67, 0.15);\n",
              "    fill: var(--button-hover-fill-color);\n",
              "  }\n",
              "\n",
              "  .colab-df-quickchart-complete:disabled,\n",
              "  .colab-df-quickchart-complete:disabled:hover {\n",
              "    background-color: var(--disabled-bg-color);\n",
              "    fill: var(--disabled-fill-color);\n",
              "    box-shadow: none;\n",
              "  }\n",
              "\n",
              "  .colab-df-spinner {\n",
              "    border: 2px solid var(--fill-color);\n",
              "    border-color: transparent;\n",
              "    border-bottom-color: var(--fill-color);\n",
              "    animation:\n",
              "      spin 1s steps(1) infinite;\n",
              "  }\n",
              "\n",
              "  @keyframes spin {\n",
              "    0% {\n",
              "      border-color: transparent;\n",
              "      border-bottom-color: var(--fill-color);\n",
              "      border-left-color: var(--fill-color);\n",
              "    }\n",
              "    20% {\n",
              "      border-color: transparent;\n",
              "      border-left-color: var(--fill-color);\n",
              "      border-top-color: var(--fill-color);\n",
              "    }\n",
              "    30% {\n",
              "      border-color: transparent;\n",
              "      border-left-color: var(--fill-color);\n",
              "      border-top-color: var(--fill-color);\n",
              "      border-right-color: var(--fill-color);\n",
              "    }\n",
              "    40% {\n",
              "      border-color: transparent;\n",
              "      border-right-color: var(--fill-color);\n",
              "      border-top-color: var(--fill-color);\n",
              "    }\n",
              "    60% {\n",
              "      border-color: transparent;\n",
              "      border-right-color: var(--fill-color);\n",
              "    }\n",
              "    80% {\n",
              "      border-color: transparent;\n",
              "      border-right-color: var(--fill-color);\n",
              "      border-bottom-color: var(--fill-color);\n",
              "    }\n",
              "    90% {\n",
              "      border-color: transparent;\n",
              "      border-bottom-color: var(--fill-color);\n",
              "    }\n",
              "  }\n",
              "</style>\n",
              "\n",
              "      <script>\n",
              "        async function quickchart(key) {\n",
              "          const quickchartButtonEl =\n",
              "            document.querySelector('#' + key + ' button');\n",
              "          quickchartButtonEl.disabled = true;  // To prevent multiple clicks.\n",
              "          quickchartButtonEl.classList.add('colab-df-spinner');\n",
              "          try {\n",
              "            const charts = await google.colab.kernel.invokeFunction(\n",
              "                'suggestCharts', [key], {});\n",
              "          } catch (error) {\n",
              "            console.error('Error during call to suggestCharts:', error);\n",
              "          }\n",
              "          quickchartButtonEl.classList.remove('colab-df-spinner');\n",
              "          quickchartButtonEl.classList.add('colab-df-quickchart-complete');\n",
              "        }\n",
              "        (() => {\n",
              "          let quickchartButtonEl =\n",
              "            document.querySelector('#df-fcd6f60d-b564-404a-87bd-9e4a8c7ef9dc button');\n",
              "          quickchartButtonEl.style.display =\n",
              "            google.colab.kernel.accessAllowed ? 'block' : 'none';\n",
              "        })();\n",
              "      </script>\n",
              "    </div>\n",
              "    </div>\n",
              "  </div>\n"
            ],
            "text/plain": [
              "        id predicted_positions\n",
              "0        0         [5, 10, 12]\n",
              "1        1           [1, 6, 7]\n",
              "2        2  [1, 4, 12, 20, 21]\n",
              "3        3         [5, 10, 18]\n",
              "4        4             [5, 10]\n",
              "...    ...                 ...\n",
              "1000  1000              [1, 3]\n",
              "1001  1001     [7, 10, 12, 16]\n",
              "1002  1002      [5, 6, 11, 19]\n",
              "1003  1003         [8, 19, 22]\n",
              "1004  1004             [9, 12]\n",
              "\n",
              "[1005 rows x 2 columns]"
            ]
          },
          "execution_count": 175,
          "metadata": {},
          "output_type": "execute_result"
        }
      ],
      "source": [
        "df_results"
      ]
    }
  ],
  "metadata": {
    "accelerator": "GPU",
    "colab": {
      "gpuType": "T4",
      "provenance": []
    },
    "kernelspec": {
      "display_name": "Python 3",
      "name": "python3"
    },
    "language_info": {
      "codemirror_mode": {
        "name": "ipython",
        "version": 3
      },
      "file_extension": ".py",
      "mimetype": "text/x-python",
      "name": "python",
      "nbconvert_exporter": "python",
      "pygments_lexer": "ipython3",
      "version": "3.11.9"
    }
  },
  "nbformat": 4,
  "nbformat_minor": 5
}
